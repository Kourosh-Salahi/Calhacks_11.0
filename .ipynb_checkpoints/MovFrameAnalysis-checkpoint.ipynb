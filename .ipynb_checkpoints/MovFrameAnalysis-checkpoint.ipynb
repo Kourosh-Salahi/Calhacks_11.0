{
 "cells": [
  {
   "cell_type": "code",
   "execution_count": 1,
   "id": "c75d5ba4-80b4-4831-bae3-6d8601139883",
   "metadata": {},
   "outputs": [
    {
     "name": "stdout",
     "output_type": "stream",
     "text": [
      "Defaulting to user installation because normal site-packages is not writeable\n",
      "Collecting opencv-python\n",
      "  Downloading opencv_python-4.10.0.84-cp37-abi3-macosx_11_0_arm64.whl (54.8 MB)\n",
      "\u001b[K     |████████████████████████████████| 54.8 MB 913 kB/s eta 0:00:012\n",
      "\u001b[?25hRequirement already satisfied: numpy>=1.17.3 in /Users/amywang/Library/Python/3.9/lib/python/site-packages (from opencv-python) (1.26.4)\n",
      "Installing collected packages: opencv-python\n",
      "Successfully installed opencv-python-4.10.0.84\n",
      "\u001b[33mWARNING: You are using pip version 21.2.4; however, version 24.2 is available.\n",
      "You should consider upgrading via the '/Library/Developer/CommandLineTools/usr/bin/python3 -m pip install --upgrade pip' command.\u001b[0m\n",
      "Note: you may need to restart the kernel to use updated packages.\n"
     ]
    }
   ],
   "source": [
    "pip install opencv-python"
   ]
  },
  {
   "cell_type": "code",
   "execution_count": 3,
   "id": "848677b8-bf39-461d-946d-74c828742659",
   "metadata": {},
   "outputs": [
    {
     "ename": "KeyboardInterrupt",
     "evalue": "",
     "output_type": "error",
     "traceback": [
      "\u001b[0;31m---------------------------------------------------------------------------\u001b[0m",
      "\u001b[0;31mKeyboardInterrupt\u001b[0m                         Traceback (most recent call last)",
      "Cell \u001b[0;32mIn[3], line 26\u001b[0m\n\u001b[1;32m     24\u001b[0m     \u001b[38;5;66;03m# Save the frame as an image file\u001b[39;00m\n\u001b[1;32m     25\u001b[0m     frame_path \u001b[38;5;241m=\u001b[39m os\u001b[38;5;241m.\u001b[39mpath\u001b[38;5;241m.\u001b[39mjoin(output_dir, \u001b[38;5;124mf\u001b[39m\u001b[38;5;124m'\u001b[39m\u001b[38;5;124mframe_\u001b[39m\u001b[38;5;132;01m{\u001b[39;00mframe_number\u001b[38;5;132;01m:\u001b[39;00m\u001b[38;5;124m04d\u001b[39m\u001b[38;5;132;01m}\u001b[39;00m\u001b[38;5;124m.png\u001b[39m\u001b[38;5;124m'\u001b[39m)\n\u001b[0;32m---> 26\u001b[0m     \u001b[43mcv2\u001b[49m\u001b[38;5;241;43m.\u001b[39;49m\u001b[43mimwrite\u001b[49m\u001b[43m(\u001b[49m\u001b[43mframe_path\u001b[49m\u001b[43m,\u001b[49m\u001b[43m \u001b[49m\u001b[43mframe\u001b[49m\u001b[43m)\u001b[49m\n\u001b[1;32m     28\u001b[0m     frame_number \u001b[38;5;241m+\u001b[39m\u001b[38;5;241m=\u001b[39m \u001b[38;5;241m1\u001b[39m\n\u001b[1;32m     30\u001b[0m \u001b[38;5;66;03m# Release the video capture object\u001b[39;00m\n",
      "\u001b[0;31mKeyboardInterrupt\u001b[0m: "
     ]
    }
   ],
   "source": [
    "import cv2\n",
    "import os\n",
    "\n",
    "# Open the video file\n",
    "cap = cv2.VideoCapture('/Users/amywang/Desktop/test1.mov')\n",
    "\n",
    "# Check if the video opened successfully\n",
    "if not cap.isOpened():\n",
    "    print(\"Error opening video file\")\n",
    "\n",
    "# Create a directory to save frames\n",
    "output_dir = 'frames'\n",
    "if not os.path.exists(output_dir):\n",
    "    os.makedirs(output_dir)\n",
    "\n",
    "frame_number = 0\n",
    "\n",
    "# Loop through the video\n",
    "while cap.isOpened():\n",
    "    ret, frame = cap.read()  # Capture frame-by-frame\n",
    "    if not ret:\n",
    "        break  # Break the loop when no more frames\n",
    "\n",
    "    # Save the frame as an image file\n",
    "    frame_path = os.path.join(output_dir, f'frame_{frame_number:04d}.png')\n",
    "    cv2.imwrite(frame_path, frame)\n",
    "    \n",
    "    frame_number += 1\n",
    "\n",
    "# Release the video capture object\n",
    "cap.release()\n",
    "\n",
    "print(f'Frames extracted: {frame_number}')"
   ]
  },
  {
   "cell_type": "code",
   "execution_count": null,
   "id": "83fdb636-5631-4475-86b8-04ec18ed955e",
   "metadata": {},
   "outputs": [],
   "source": [
    "import cv2\n",
    "import numpy as np\n",
    "import os\n",
    "import tensorflow as tf\n",
    "\n",
    "# Directory where frames are saved\n",
    "frame_dir = 'frames/'\n",
    "\n",
    "# Assuming the model expects 224x224 images\n",
    "image_size = (224, 224)\n",
    "\n",
    "# Load and preprocess each frame\n",
    "def preprocess_frame(frame_path):\n",
    "    frame = cv2.imread(frame_path)\n",
    "    frame = cv2.resize(frame, image_size)  # Resize to model's expected size\n",
    "    frame = frame / 255.0  # Normalize pixel values to [0, 1]\n",
    "    frame = np.expand_dims(frame, axis=0)  # Add batch dimension\n",
    "    return frame\n",
    "\n",
    "# Example of how to load all frames for batch processing\n",
    "frames = []\n",
    "for frame_name in sorted(os.listdir(frame_dir)):\n",
    "    frame_path = os.path.join(frame_dir, frame_name)\n",
    "    frame = preprocess_frame(frame_path)\n",
    "    frames.append(frame)\n",
    "\n",
    "# Stack frames into a batch\n",
    "batch = np.vstack(frames)"
   ]
  },
  {
   "cell_type": "code",
   "execution_count": 19,
   "id": "6566c6f3-95fe-44f8-a143-01dbd27d5675",
   "metadata": {},
   "outputs": [
    {
     "name": "stdout",
     "output_type": "stream",
     "text": [
      "ChatCompletionMessage(content='To determine the ASL letter created by the hand configuration, we need to analyze the finger positions and movements. Given the data, we\\'ll focus on the overall finger positions and shapes formed.\\n\\nBased on the data provided, here\\'s a simplified analysis:\\n\\n- Thumb: The thumb is separated from the other fingers (THUMB_CMC at `1` is far from INDEX FINGER_MCP at `5`), which indicates it\\'s not in a \"position 1\" shape, but rather extended.\\n- Index Finger: It\\'s reasonably close to a fully extended position.\\n- Middle Finger: The position suggests it\\'s extended.\\n- Ring Finger: Extended as well.\\n- Pinky Finger: Also extended.\\n- All fingers, including the thumb, seem to be relatively straight.\\n\\nGiven this, we can make some educated guesses. Since most fingers are extended, and considering the ASL alphabet, a good candidate for this configuration could be the ASL letter \"E\" or potentially \"I.\" However, given that the thumb is separated and the other fingers seem exactly or almost straight, this leans more towards \"E.\"\\n\\nSo, the ASL letter most likely represented by this configuration is \"E.\"', role='assistant', function_call=None, tool_calls=None)\n"
     ]
    }
   ],
   "source": [
    "from groq import Groq\n",
    "\n",
    "GROQ_API_KEY = \"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\"\n",
    "client = Groq(api_key=GROQ_API_KEY)\n",
    "completion = client.chat.completions.create(\n",
    "    model=\"llama-3.2-90b-vision-preview\",\n",
    "    messages=[\n",
    "        {\n",
    "            \"role\": \"user\",\n",
    "            \"content\": \"(0, 0.6291446685791016, 0.7474343180656433, -6.940783805475803e-07)\\t(1, 0.569800078868866, 0.6609311103820801, 0.0010792140383273363)\\t(2, 0.539739191532135, 0.5481612682342529, 0.003179557854309678)\\t(3, 0.5340869426727295, 0.45456331968307495, -0.0023627004120498896)\\t(4, 0.5218374729156494, 0.37604692578315735, -0.006354242563247681)\\t(5, 0.5817943215370178, 0.47687196731567383, 0.03281461074948311)\\t(6, 0.5637698769569397, 0.40330374240875244, 0.004460983909666538)\\t(7, 0.5551409721374512, 0.47667184472084045, -0.016215043142437935)\\t(8, 0.5547307729721069, 0.548344075679779, -0.024093450978398323\\t(9, 0.6133684515953064, 0.48441281914711, 0.02117038145661354)\\t(10, 0.5906840562820435, 0.40759730339050293, -0.009866598062217236\\t(11, 0.5814631581306458, 0.5008186101913452, -0.023821111768484116)\\t(12, 0.5828279256820679, 0.5740489363670349, -0.023433201014995575\\t(13, 0.6476872563362122, 0.4972296953201294, 0.0041257343254983425)\\t(14, 0.6219602823257446, 0.42597198486328125, -0.024648429825901985)\\t(15, 0.6111117005348206, 0.5210391283035278, -0.021492788568139076)\\t(16, 0.6128002405166626, 0.5899154543876648, -0.008664877153933048)\\t(17, 0.6863601803779602, 0.5180871486663818, -0.0135530736297369)\\t(18, 0.6599762439727783, 0.45347484946250916, -0.02926407940685749)\\t(19, 0.6488719582557678, 0.5114790201187134, -0.021297810599207878)\\t(20, 0.6518837213516235, 0.5598867535591125, -0.00871617253869772)\\n\\neach of these points is a number followed by a 3 dimensional vector in space (number, x, y, z), each of the numbers corresponds to a joint on the hand. \\n\\n0. WRIST 1. THUMB_CMC 2. THUMB_MCP  3. THUMB_IP 4. THUMB_TIP 5. INDEX FINGER_MCP 6. INDEX FINGER PIP 7. INDEX FINGER_DIP 8. INDEX FINGER TIP 9. MIDDLE FINGER_MCP 10. MIDDLE FINGER_PIP 11. MIDDLE FINGER DIP 12. MIDDLE FINGER TIP 13. RING FINGER MCP 14. RING FINGER PIP 15. RING FINGER_DIP 16. RING FINGER TIP 17. PINKY MCP 18. PINKY PIP 19. PINKY DIP 20. PINKY TIP\\n\\nwhat ASL letter does this create\"\n",
    "        }\n",
    "    ],\n",
    "    temperature=1,\n",
    "    max_tokens=1024,\n",
    "    top_p=1,\n",
    "    stream=False,\n",
    "    stop=None,\n",
    ")\n",
    "\n",
    "print(completion.choices[0].message)\n"
   ]
  },
  {
   "cell_type": "code",
   "execution_count": null,
   "id": "f23fcc13-54b0-4fc6-b0fc-11f69829ea83",
   "metadata": {},
   "outputs": [],
   "source": []
  }
 ],
 "metadata": {
  "kernelspec": {
   "display_name": "Python 3 (ipykernel)",
   "language": "python",
   "name": "python3"
  },
  "language_info": {
   "codemirror_mode": {
    "name": "ipython",
    "version": 3
   },
   "file_extension": ".py",
   "mimetype": "text/x-python",
   "name": "python",
   "nbconvert_exporter": "python",
   "pygments_lexer": "ipython3",
   "version": "3.9.6"
  }
 },
 "nbformat": 4,
 "nbformat_minor": 5
}
